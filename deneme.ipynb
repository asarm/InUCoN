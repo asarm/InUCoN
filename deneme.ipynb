{
 "cells": [
  {
   "cell_type": "code",
   "id": "initial_id",
   "metadata": {
    "collapsed": true,
    "ExecuteTime": {
     "end_time": "2024-06-13T07:04:23.394048Z",
     "start_time": "2024-06-13T07:04:23.388934Z"
    }
   },
   "source": [
    "import yfinance as yf\n",
    "import pandas as pd"
   ],
   "outputs": [],
   "execution_count": 10
  },
  {
   "metadata": {
    "ExecuteTime": {
     "end_time": "2024-06-13T07:59:51.573081Z",
     "start_time": "2024-06-13T07:59:51.088812Z"
    }
   },
   "cell_type": "code",
   "source": "tables = pd.read_html(\"https://en.wikipedia.org/wiki/FTSE_250_Index\")",
   "id": "180f3cdc203d262f",
   "outputs": [],
   "execution_count": 20
  },
  {
   "metadata": {
    "ExecuteTime": {
     "end_time": "2024-06-13T07:59:53.958722Z",
     "start_time": "2024-06-13T07:59:53.949607Z"
    }
   },
   "cell_type": "code",
   "source": "tables[3]",
   "id": "f6fcd2eea25d5fbf",
   "outputs": [
    {
     "data": {
      "text/plain": [
       "                                      Company Ticker  \\\n",
       "0                           3i Infrastructure    3IN   \n",
       "1                                    4imprint   FOUR   \n",
       "2                                       Abrdn   ABDN   \n",
       "3    abrdn Private Equity Opportunities Trust   APEO   \n",
       "4                              Alliance Trust   ATST   \n",
       "..                                        ...    ...   \n",
       "245                                  Wizz Air   WIZZ   \n",
       "246                                Wood Group     WG   \n",
       "247                           Workspace Group    WKP   \n",
       "248                Worldwide Healthcare Trust    WWH   \n",
       "249                                     Zigup    ZIG   \n",
       "\n",
       "    FTSE Industry Classification Benchmark sector[10]  \n",
       "0                                  Financial Services  \n",
       "1                                               Media  \n",
       "2                                  Financial Services  \n",
       "3                                   Investment Trusts  \n",
       "4                                   Investment Trusts  \n",
       "..                                                ...  \n",
       "245                                  Travel & Leisure  \n",
       "246          Oil & Gas Related Equipment and Services  \n",
       "247                     Real Estate Investment Trusts  \n",
       "248                                 Investment Trusts  \n",
       "249                                  Support Services  \n",
       "\n",
       "[250 rows x 3 columns]"
      ],
      "text/html": [
       "<div>\n",
       "<style scoped>\n",
       "    .dataframe tbody tr th:only-of-type {\n",
       "        vertical-align: middle;\n",
       "    }\n",
       "\n",
       "    .dataframe tbody tr th {\n",
       "        vertical-align: top;\n",
       "    }\n",
       "\n",
       "    .dataframe thead th {\n",
       "        text-align: right;\n",
       "    }\n",
       "</style>\n",
       "<table border=\"1\" class=\"dataframe\">\n",
       "  <thead>\n",
       "    <tr style=\"text-align: right;\">\n",
       "      <th></th>\n",
       "      <th>Company</th>\n",
       "      <th>Ticker</th>\n",
       "      <th>FTSE Industry Classification Benchmark sector[10]</th>\n",
       "    </tr>\n",
       "  </thead>\n",
       "  <tbody>\n",
       "    <tr>\n",
       "      <th>0</th>\n",
       "      <td>3i Infrastructure</td>\n",
       "      <td>3IN</td>\n",
       "      <td>Financial Services</td>\n",
       "    </tr>\n",
       "    <tr>\n",
       "      <th>1</th>\n",
       "      <td>4imprint</td>\n",
       "      <td>FOUR</td>\n",
       "      <td>Media</td>\n",
       "    </tr>\n",
       "    <tr>\n",
       "      <th>2</th>\n",
       "      <td>Abrdn</td>\n",
       "      <td>ABDN</td>\n",
       "      <td>Financial Services</td>\n",
       "    </tr>\n",
       "    <tr>\n",
       "      <th>3</th>\n",
       "      <td>abrdn Private Equity Opportunities Trust</td>\n",
       "      <td>APEO</td>\n",
       "      <td>Investment Trusts</td>\n",
       "    </tr>\n",
       "    <tr>\n",
       "      <th>4</th>\n",
       "      <td>Alliance Trust</td>\n",
       "      <td>ATST</td>\n",
       "      <td>Investment Trusts</td>\n",
       "    </tr>\n",
       "    <tr>\n",
       "      <th>...</th>\n",
       "      <td>...</td>\n",
       "      <td>...</td>\n",
       "      <td>...</td>\n",
       "    </tr>\n",
       "    <tr>\n",
       "      <th>245</th>\n",
       "      <td>Wizz Air</td>\n",
       "      <td>WIZZ</td>\n",
       "      <td>Travel &amp; Leisure</td>\n",
       "    </tr>\n",
       "    <tr>\n",
       "      <th>246</th>\n",
       "      <td>Wood Group</td>\n",
       "      <td>WG</td>\n",
       "      <td>Oil &amp; Gas Related Equipment and Services</td>\n",
       "    </tr>\n",
       "    <tr>\n",
       "      <th>247</th>\n",
       "      <td>Workspace Group</td>\n",
       "      <td>WKP</td>\n",
       "      <td>Real Estate Investment Trusts</td>\n",
       "    </tr>\n",
       "    <tr>\n",
       "      <th>248</th>\n",
       "      <td>Worldwide Healthcare Trust</td>\n",
       "      <td>WWH</td>\n",
       "      <td>Investment Trusts</td>\n",
       "    </tr>\n",
       "    <tr>\n",
       "      <th>249</th>\n",
       "      <td>Zigup</td>\n",
       "      <td>ZIG</td>\n",
       "      <td>Support Services</td>\n",
       "    </tr>\n",
       "  </tbody>\n",
       "</table>\n",
       "<p>250 rows × 3 columns</p>\n",
       "</div>"
      ]
     },
     "execution_count": 21,
     "metadata": {},
     "output_type": "execute_result"
    }
   ],
   "execution_count": 21
  },
  {
   "metadata": {},
   "cell_type": "code",
   "outputs": [],
   "execution_count": null,
   "source": "",
   "id": "300a2d119148e0c0"
  }
 ],
 "metadata": {
  "kernelspec": {
   "display_name": "Python 3",
   "language": "python",
   "name": "python3"
  },
  "language_info": {
   "codemirror_mode": {
    "name": "ipython",
    "version": 2
   },
   "file_extension": ".py",
   "mimetype": "text/x-python",
   "name": "python",
   "nbconvert_exporter": "python",
   "pygments_lexer": "ipython2",
   "version": "2.7.6"
  }
 },
 "nbformat": 4,
 "nbformat_minor": 5
}
