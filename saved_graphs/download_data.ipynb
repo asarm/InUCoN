{
 "cells": [
  {
   "cell_type": "code",
   "id": "initial_id",
   "metadata": {
    "collapsed": true,
    "ExecuteTime": {
     "end_time": "2024-06-12T13:41:34.284551Z",
     "start_time": "2024-06-12T13:41:02.230343Z"
    }
   },
   "source": [
    "import numpy as np\n",
    "import pandas as pd\n",
    "\n",
    "from helpers.data_preparation import * \n",
    "from helpers.nlp_functions import *\n",
    "from helpers.time_series_functions import *"
   ],
   "outputs": [
    {
     "name": "stdout",
     "output_type": "stream",
     "text": [
      "Importing the dtw module. When using in academic works please cite:\n",
      "  T. Giorgino. Computing and Visualizing Dynamic Time Warping Alignments in R: The dtw Package.\n",
      "  J. Stat. Soft., doi:10.18637/jss.v031.i07.\n",
      "\n"
     ]
    }
   ],
   "execution_count": 1
  },
  {
   "metadata": {
    "ExecuteTime": {
     "end_time": "2024-06-12T13:46:07.007792Z",
     "start_time": "2024-06-12T13:46:05.453542Z"
    }
   },
   "cell_type": "code",
   "source": [
    "# \"https://www.isyatirim.com.tr/en-us/analysis/stocks/Pages/bist-data-table.aspx?endeks=01#page-1\"\n",
    "stock_list = stockListFromURL(\"https://www.isyatirim.com.tr/en-us/analysis/stocks/Pages/bist-data-table.aspx?endeks=01#page-1\")\n",
    "# stock_list = stockListFromURL()"
   ],
   "id": "8fec2acfecfc5325",
   "outputs": [],
   "execution_count": 21
  },
  {
   "metadata": {
    "ExecuteTime": {
     "end_time": "2024-06-12T13:46:19.298602Z",
     "start_time": "2024-06-12T13:46:14.538407Z"
    }
   },
   "cell_type": "code",
   "source": "stock_data = stockDataFromYf(stock_list)",
   "id": "b663541f6af36e88",
   "outputs": [
    {
     "name": "stderr",
     "output_type": "stream",
     "text": [
      "[*********************100%%**********************]  100 of 100 completed\n"
     ]
    }
   ],
   "execution_count": 23
  },
  {
   "metadata": {
    "ExecuteTime": {
     "end_time": "2024-06-12T13:44:55.607650Z",
     "start_time": "2024-06-12T13:44:55.582181Z"
    }
   },
   "cell_type": "code",
   "source": "# stock_list = filterStocksByVolume(stock_data, largest_n=200)",
   "id": "861304cdb3587d57",
   "outputs": [],
   "execution_count": 13
  },
  {
   "metadata": {
    "ExecuteTime": {
     "end_time": "2024-06-11T20:37:20.238765Z",
     "start_time": "2024-06-11T20:37:20.232589Z"
    }
   },
   "cell_type": "code",
   "source": "# price_data = stock_data[\"Close\"]",
   "id": "a0cc874a7e18149d",
   "outputs": [],
   "execution_count": 30
  },
  {
   "metadata": {
    "ExecuteTime": {
     "end_time": "2024-06-12T13:46:20.178533Z",
     "start_time": "2024-06-12T13:46:20.163342Z"
    }
   },
   "cell_type": "code",
   "source": "price_data = stock_data[\"Close\"][stock_list]",
   "id": "4ac8ee4557367f41",
   "outputs": [],
   "execution_count": 24
  },
  {
   "metadata": {
    "ExecuteTime": {
     "end_time": "2024-06-12T13:46:38.286931Z",
     "start_time": "2024-06-12T13:46:34.043840Z"
    }
   },
   "cell_type": "code",
   "source": [
    "threshold = 0.3 * len(price_data)\n",
    "\n",
    "price_data = price_data.dropna(thresh=len(price_data) - threshold, axis=1)\n",
    "price_data = price_data.fillna(method='ffill')\n",
    "price_data = price_data.fillna(method='bfill')\n",
    "\n",
    "stock_list = list(price_data.columns)\n",
    "stock2id = stocks2id(stock_list)\n",
    "stock_data = stockDataFromYf(stock_list)"
   ],
   "id": "aae26c39abf9d9f7",
   "outputs": [
    {
     "name": "stderr",
     "output_type": "stream",
     "text": [
      "C:\\Users\\ardaa\\AppData\\Local\\Temp\\ipykernel_9480\\4196012245.py:4: FutureWarning: DataFrame.fillna with 'method' is deprecated and will raise in a future version. Use obj.ffill() or obj.bfill() instead.\n",
      "  price_data = price_data.fillna(method='ffill')\n",
      "C:\\Users\\ardaa\\AppData\\Local\\Temp\\ipykernel_9480\\4196012245.py:5: FutureWarning: DataFrame.fillna with 'method' is deprecated and will raise in a future version. Use obj.ffill() or obj.bfill() instead.\n",
      "  price_data = price_data.fillna(method='bfill')\n",
      "[*********************100%%**********************]  82 of 82 completed\n"
     ]
    }
   ],
   "execution_count": 26
  },
  {
   "metadata": {
    "ExecuteTime": {
     "end_time": "2024-06-12T13:47:16.134864Z",
     "start_time": "2024-06-12T13:46:54.370827Z"
    }
   },
   "cell_type": "code",
   "source": "textual_data = fetchTextualInformation(stock_list, stock2id)",
   "id": "677bf410ed2c5cdb",
   "outputs": [
    {
     "name": "stderr",
     "output_type": "stream",
     "text": [
      "100%|██████████| 82/82 [00:21<00:00,  3.77it/s]\n"
     ]
    }
   ],
   "execution_count": 28
  },
  {
   "metadata": {
    "ExecuteTime": {
     "end_time": "2024-06-12T13:47:16.170132Z",
     "start_time": "2024-06-12T13:47:16.137866Z"
    }
   },
   "cell_type": "code",
   "source": "pd.DataFrame(textual_data).T",
   "id": "9e089b44495e78e2",
   "outputs": [
    {
     "data": {
      "text/plain": [
       "         ticker_id      code                  name              sector  \\\n",
       "AEFES.IS         0  AEFES.IS          ANADOLU EFES  Consumer Defensive   \n",
       "AKBNK.IS         1  AKBNK.IS                AKBANK  Financial Services   \n",
       "AKCNS.IS         2  AKCNS.IS               AKCANSA     Basic Materials   \n",
       "AKFGY.IS         3  AKFGY.IS            AKFEN GMYO         Real Estate   \n",
       "AKSA.IS          4   AKSA.IS                  AKSA   Consumer Cyclical   \n",
       "...            ...       ...                   ...                 ...   \n",
       "VESBE.IS        77  VESBE.IS     VESTEL BEYAZ ESYA   Consumer Cyclical   \n",
       "VESTL.IS        78  VESTL.IS                VESTEL          Technology   \n",
       "YEOTK.IS        79  YEOTK.IS  YEO TEKNOLOJI ENERJI         Industrials   \n",
       "YKBNK.IS        80  YKBNK.IS   YAPI VE KREDI BANK.  Financial Services   \n",
       "ZOREN.IS        81  ZOREN.IS          ZORLU ENERJI           Utilities   \n",
       "\n",
       "                                    industry  \\\n",
       "AEFES.IS                 Beverages - Brewers   \n",
       "AKBNK.IS                    Banks - Regional   \n",
       "AKCNS.IS                  Building Materials   \n",
       "AKFGY.IS                REIT - Hotel & Motel   \n",
       "AKSA.IS                Textile Manufacturing   \n",
       "...                                      ...   \n",
       "VESBE.IS  Furnishings, Fixtures & Appliances   \n",
       "VESTL.IS                Consumer Electronics   \n",
       "YEOTK.IS          Engineering & Construction   \n",
       "YKBNK.IS                    Banks - Regional   \n",
       "ZOREN.IS             Utilities - Diversified   \n",
       "\n",
       "                                                description  \n",
       "AEFES.IS  Anadolu Efes Biracilik ve Malt Sanayii Anonim ...  \n",
       "AKBNK.IS  Akbank T.A.S., together with its subsidiaries,...  \n",
       "AKCNS.IS  Akçansa Çimento Sanayi ve Ticaret Anonim Sirke...  \n",
       "AKFGY.IS  Akfen Real Estate Investment Trust Inc. was es...  \n",
       "AKSA.IS   Aksa Akrilik Kimya Sanayii A.S., together with...  \n",
       "...                                                     ...  \n",
       "VESBE.IS  Vestel Beyaz Esya Sanayi ve Ticaret A.S. engag...  \n",
       "VESTL.IS  Vestel Elektronik Sanayi ve Ticaret Anonim Sir...  \n",
       "YEOTK.IS  Yeo Teknoloji Enerji Ve Endustri Anonim Sirket...  \n",
       "YKBNK.IS  Yapi ve Kredi Bankasi A.S., together with its ...  \n",
       "ZOREN.IS  Zorlu Enerji Elektrik Üretim A.S., together wi...  \n",
       "\n",
       "[82 rows x 6 columns]"
      ],
      "text/html": [
       "<div>\n",
       "<style scoped>\n",
       "    .dataframe tbody tr th:only-of-type {\n",
       "        vertical-align: middle;\n",
       "    }\n",
       "\n",
       "    .dataframe tbody tr th {\n",
       "        vertical-align: top;\n",
       "    }\n",
       "\n",
       "    .dataframe thead th {\n",
       "        text-align: right;\n",
       "    }\n",
       "</style>\n",
       "<table border=\"1\" class=\"dataframe\">\n",
       "  <thead>\n",
       "    <tr style=\"text-align: right;\">\n",
       "      <th></th>\n",
       "      <th>ticker_id</th>\n",
       "      <th>code</th>\n",
       "      <th>name</th>\n",
       "      <th>sector</th>\n",
       "      <th>industry</th>\n",
       "      <th>description</th>\n",
       "    </tr>\n",
       "  </thead>\n",
       "  <tbody>\n",
       "    <tr>\n",
       "      <th>AEFES.IS</th>\n",
       "      <td>0</td>\n",
       "      <td>AEFES.IS</td>\n",
       "      <td>ANADOLU EFES</td>\n",
       "      <td>Consumer Defensive</td>\n",
       "      <td>Beverages - Brewers</td>\n",
       "      <td>Anadolu Efes Biracilik ve Malt Sanayii Anonim ...</td>\n",
       "    </tr>\n",
       "    <tr>\n",
       "      <th>AKBNK.IS</th>\n",
       "      <td>1</td>\n",
       "      <td>AKBNK.IS</td>\n",
       "      <td>AKBANK</td>\n",
       "      <td>Financial Services</td>\n",
       "      <td>Banks - Regional</td>\n",
       "      <td>Akbank T.A.S., together with its subsidiaries,...</td>\n",
       "    </tr>\n",
       "    <tr>\n",
       "      <th>AKCNS.IS</th>\n",
       "      <td>2</td>\n",
       "      <td>AKCNS.IS</td>\n",
       "      <td>AKCANSA</td>\n",
       "      <td>Basic Materials</td>\n",
       "      <td>Building Materials</td>\n",
       "      <td>Akçansa Çimento Sanayi ve Ticaret Anonim Sirke...</td>\n",
       "    </tr>\n",
       "    <tr>\n",
       "      <th>AKFGY.IS</th>\n",
       "      <td>3</td>\n",
       "      <td>AKFGY.IS</td>\n",
       "      <td>AKFEN GMYO</td>\n",
       "      <td>Real Estate</td>\n",
       "      <td>REIT - Hotel &amp; Motel</td>\n",
       "      <td>Akfen Real Estate Investment Trust Inc. was es...</td>\n",
       "    </tr>\n",
       "    <tr>\n",
       "      <th>AKSA.IS</th>\n",
       "      <td>4</td>\n",
       "      <td>AKSA.IS</td>\n",
       "      <td>AKSA</td>\n",
       "      <td>Consumer Cyclical</td>\n",
       "      <td>Textile Manufacturing</td>\n",
       "      <td>Aksa Akrilik Kimya Sanayii A.S., together with...</td>\n",
       "    </tr>\n",
       "    <tr>\n",
       "      <th>...</th>\n",
       "      <td>...</td>\n",
       "      <td>...</td>\n",
       "      <td>...</td>\n",
       "      <td>...</td>\n",
       "      <td>...</td>\n",
       "      <td>...</td>\n",
       "    </tr>\n",
       "    <tr>\n",
       "      <th>VESBE.IS</th>\n",
       "      <td>77</td>\n",
       "      <td>VESBE.IS</td>\n",
       "      <td>VESTEL BEYAZ ESYA</td>\n",
       "      <td>Consumer Cyclical</td>\n",
       "      <td>Furnishings, Fixtures &amp; Appliances</td>\n",
       "      <td>Vestel Beyaz Esya Sanayi ve Ticaret A.S. engag...</td>\n",
       "    </tr>\n",
       "    <tr>\n",
       "      <th>VESTL.IS</th>\n",
       "      <td>78</td>\n",
       "      <td>VESTL.IS</td>\n",
       "      <td>VESTEL</td>\n",
       "      <td>Technology</td>\n",
       "      <td>Consumer Electronics</td>\n",
       "      <td>Vestel Elektronik Sanayi ve Ticaret Anonim Sir...</td>\n",
       "    </tr>\n",
       "    <tr>\n",
       "      <th>YEOTK.IS</th>\n",
       "      <td>79</td>\n",
       "      <td>YEOTK.IS</td>\n",
       "      <td>YEO TEKNOLOJI ENERJI</td>\n",
       "      <td>Industrials</td>\n",
       "      <td>Engineering &amp; Construction</td>\n",
       "      <td>Yeo Teknoloji Enerji Ve Endustri Anonim Sirket...</td>\n",
       "    </tr>\n",
       "    <tr>\n",
       "      <th>YKBNK.IS</th>\n",
       "      <td>80</td>\n",
       "      <td>YKBNK.IS</td>\n",
       "      <td>YAPI VE KREDI BANK.</td>\n",
       "      <td>Financial Services</td>\n",
       "      <td>Banks - Regional</td>\n",
       "      <td>Yapi ve Kredi Bankasi A.S., together with its ...</td>\n",
       "    </tr>\n",
       "    <tr>\n",
       "      <th>ZOREN.IS</th>\n",
       "      <td>81</td>\n",
       "      <td>ZOREN.IS</td>\n",
       "      <td>ZORLU ENERJI</td>\n",
       "      <td>Utilities</td>\n",
       "      <td>Utilities - Diversified</td>\n",
       "      <td>Zorlu Enerji Elektrik Üretim A.S., together wi...</td>\n",
       "    </tr>\n",
       "  </tbody>\n",
       "</table>\n",
       "<p>82 rows × 6 columns</p>\n",
       "</div>"
      ]
     },
     "execution_count": 29,
     "metadata": {},
     "output_type": "execute_result"
    }
   ],
   "execution_count": 29
  },
  {
   "metadata": {
    "ExecuteTime": {
     "end_time": "2024-06-04T06:41:19.200220Z",
     "start_time": "2024-06-04T06:41:18.465079Z"
    }
   },
   "cell_type": "code",
   "source": "tokenizer, nlp_model = load_model()",
   "id": "954bdd891c275bc6",
   "outputs": [],
   "execution_count": 94
  },
  {
   "metadata": {
    "ExecuteTime": {
     "end_time": "2024-06-04T06:41:26.799370Z",
     "start_time": "2024-06-04T06:41:19.201226Z"
    }
   },
   "cell_type": "code",
   "source": [
    "description_feature_vectors = {}\n",
    "\n",
    "for i, key in enumerate(list(textual_data.keys())):\n",
    "    desc = textual_data[key][\"description\"]\n",
    "    feature_vector = extract_features(text=desc, tokenizer=tokenizer, model=nlp_model)\n",
    "    description_feature_vectors[i] = feature_vector"
   ],
   "id": "1966a07bbd7641fa",
   "outputs": [],
   "execution_count": 95
  },
  {
   "metadata": {
    "ExecuteTime": {
     "end_time": "2024-06-04T06:41:26.805116Z",
     "start_time": "2024-06-04T06:41:26.801375Z"
    }
   },
   "cell_type": "code",
   "source": "",
   "id": "39188f151d4e65f3",
   "outputs": [],
   "execution_count": 96
  },
  {
   "metadata": {},
   "cell_type": "code",
   "outputs": [],
   "execution_count": 85,
   "source": [
    "'''\n",
    "with open(f'../cold_data/description_feature_vectorsbist100.pkl', 'wb') as f:\n",
    "    pickle.dump(description_feature_vectors, f)\n",
    "'''"
   ],
   "id": "49f52e0de80b55c8"
  },
  {
   "metadata": {
    "ExecuteTime": {
     "end_time": "2024-06-12T13:48:08.580697Z",
     "start_time": "2024-06-12T13:47:25.847130Z"
    }
   },
   "cell_type": "code",
   "source": [
    "title = \"bist100\"\n",
    "ts_sim = calculate_historical_ts_similarities(price_data, start_date=\"2023-01-01\", end_date=\"2023-06-01\", \n",
    "                                              similarity_metric=\"pearson\", path=f\"range_similarities_{title}.pkl\")"
   ],
   "id": "24c21125eac529f0",
   "outputs": [
    {
     "name": "stdout",
     "output_type": "stream",
     "text": [
      "Date Range Count: 6\n"
     ]
    },
    {
     "name": "stderr",
     "output_type": "stream",
     "text": [
      "100%|██████████| 82/82 [00:07<00:00, 10.94it/s]\n",
      "100%|██████████| 82/82 [00:06<00:00, 12.14it/s]\n",
      "100%|██████████| 82/82 [00:07<00:00, 11.64it/s]\n",
      "100%|██████████| 82/82 [00:06<00:00, 11.82it/s]\n",
      "100%|██████████| 82/82 [00:06<00:00, 11.86it/s]\n",
      "100%|██████████| 82/82 [00:07<00:00, 10.87it/s]\n"
     ]
    }
   ],
   "execution_count": 30
  },
  {
   "metadata": {
    "ExecuteTime": {
     "end_time": "2024-06-12T13:49:02.678019Z",
     "start_time": "2024-06-12T13:49:02.619058Z"
    }
   },
   "cell_type": "code",
   "source": [
    "'''\n",
    "with open(f'../calculated_data/historical_ts_sim_bist100_pearson.pkl', 'wb') as f:\n",
    "    pickle.dump(ts_sim, f)\n",
    "'''"
   ],
   "id": "8cda82c65979914b",
   "outputs": [],
   "execution_count": 31
  },
  {
   "metadata": {
    "ExecuteTime": {
     "end_time": "2024-06-04T06:42:53.146115Z",
     "start_time": "2024-06-04T06:42:53.092735Z"
    }
   },
   "cell_type": "code",
   "source": [
    "# price_data[\"Date\"] = stock_data.index\n",
    "# price_data.to_csv(f\"../cold_data/stock_databist100.csv\", index=False)\n",
    "# pd.DataFrame(textual_data).to_csv(f\"../cold_data/textual_information{title}.csv\", index=False)\n",
    "\n",
    "# s = pd.DataFrame(columns=list(stock2id.keys()))\n",
    "# s.loc[0] = (list(stock2id.values()))\n",
    "# s.to_csv(f\"../cold_data/stock2id{title}.csv\", index=False)"
   ],
   "id": "57ddb870e003a3e",
   "outputs": [],
   "execution_count": 98
  },
  {
   "metadata": {},
   "cell_type": "code",
   "source": "",
   "id": "b1f4e09dbdefeab8",
   "outputs": [],
   "execution_count": null
  },
  {
   "metadata": {},
   "cell_type": "code",
   "source": "",
   "id": "be20304950fb13c8",
   "outputs": [],
   "execution_count": null
  },
  {
   "metadata": {
    "ExecuteTime": {
     "end_time": "2024-06-12T13:49:45.603026Z",
     "start_time": "2024-06-12T13:49:45.520492Z"
    }
   },
   "cell_type": "code",
   "source": [
    "with open(\"../calculated_data/historical_ts_sim_bist100_distCorr.pkl\", 'rb') as file:\n",
    "    ts_sim_dist_corr = pickle.load(file)\n",
    "with open(\"../calculated_data/historical_ts_sim_bist100_dtw.pkl\", 'rb') as file:\n",
    "    ts_sim_dist_dtw = pickle.load(file)\n",
    "with open(\"../calculated_data/historical_ts_sim_bist100_euclidean.pkl\", 'rb') as file:\n",
    "    ts_sim_dist_euclidean = pickle.load(file)\n",
    "with open(\"../calculated_data/historical_ts_sim_bist100_pearson.pkl\", 'rb') as file:\n",
    "    ts_sim_dist_pearson = pickle.load(file)"
   ],
   "id": "94772d4eca28cb",
   "outputs": [],
   "execution_count": 32
  },
  {
   "metadata": {
    "ExecuteTime": {
     "end_time": "2024-06-12T13:50:05.481131Z",
     "start_time": "2024-06-12T13:50:03.026586Z"
    }
   },
   "cell_type": "code",
   "source": [
    "from data_preparer import DataPreparer\n",
    "preparer = DataPreparer(\n",
    "    data_path=f\"../cold_data/description_feature_vectorsbist100.pkl\",\n",
    "    textual_path=f\"../cold_data/textual_informationbist100.csv\",\n",
    "    stock2idPath=f\"../cold_data/stock2idbist100.csv\",\n",
    "    stockDataPath=f\"../cold_data/stock_databist100.csv\"\n",
    "    )"
   ],
   "id": "9a845054375c5c1",
   "outputs": [],
   "execution_count": 33
  },
  {
   "metadata": {
    "ExecuteTime": {
     "end_time": "2024-06-12T13:52:58.088684Z",
     "start_time": "2024-06-12T13:52:56.764028Z"
    }
   },
   "cell_type": "code",
   "source": [
    "preparer.ts_similarities = ts_sim_dist_pearson\n",
    "preparer.prepare_snapshots(weight_combination={\"ts\":0.55, \"tx\":0.45}) # 55, 45\n",
    "\n",
    "preparer.calculate_similarity_matrix(node_count=len(preparer.stockData.columns), snapshot_start_id=0, snapshot_end_id=5)\n",
    "preparer.calculate_final_communes()\n",
    "node_metrics = preparer.calculate_node_metrics()\n",
    "\n",
    "a, b = np.median(node_metrics.pagerank.dropna()) - np.std(node_metrics.pagerank.dropna())*0.5, np.median(node_metrics.centrality.dropna())\n",
    "\n",
    "investment_universe = list(node_metrics.reset_index()[(node_metrics.pagerank > a) \n",
    "                                                      & (node_metrics.centrality < b)].sort_values(by=\"centrality\", ascending=True)[\"index\"])\n",
    "print(len(investment_universe))\n",
    "\n",
    "selected_stocks = []\n",
    "for selected_id in investment_universe:\n",
    "    selected_stocks.append(preparer.id2stock(selected_id))\n",
    "    \n",
    "from allocator import Allocator\n",
    "\n",
    "allocator = Allocator()\n",
    "start_date = \"2023-05-26\"\n",
    "\n",
    "filtered_optim = allocator.mean_variance_optimization(preparer.stockData[(preparer.stockData.index < start_date) & (preparer.stockData.index > \"2023-01-01\")][selected_stocks], \n",
    "                                                           min_weight=0.01, take_pct_change=True) \n",
    "filtered_return = allocator.calculate_cumulative_return(filtered_optim[filtered_optim.weights > 0], stockData=preparer.stockData, startDate=start_date)\n",
    "print(filtered_return[0])"
   ],
   "id": "1925b26d18e0638f",
   "outputs": [
    {
     "name": "stdout",
     "output_type": "stream",
     "text": [
      "21\n",
      "1.14728541931171\n"
     ]
    }
   ],
   "execution_count": 37
  },
  {
   "metadata": {
    "ExecuteTime": {
     "end_time": "2024-06-09T20:19:56.518190Z",
     "start_time": "2024-06-09T20:19:56.217679Z"
    }
   },
   "cell_type": "code",
   "source": [
    "mean_variance_optim = allocator.mean_variance_optimization(preparer.stockData[(preparer.stockData.index < start_date)&(preparer.stockData.index >\"2023-01-01\")], \n",
    "                                                           min_weight=0.01, take_pct_change=True) \n",
    "mean_variance_return = allocator.calculate_cumulative_return(mean_variance_optim[mean_variance_optim.weights > 0], stockData=preparer.stockData, startDate=start_date)\n",
    "mean_variance_return[0]"
   ],
   "id": "e7daf53225d4c1e7",
   "outputs": [
    {
     "data": {
      "text/plain": [
       "1.0068389962518025"
      ]
     },
     "execution_count": 11,
     "metadata": {},
     "output_type": "execute_result"
    }
   ],
   "execution_count": 11
  },
  {
   "metadata": {
    "ExecuteTime": {
     "end_time": "2024-06-09T20:12:08.202709Z",
     "start_time": "2024-06-09T20:12:08.042061Z"
    }
   },
   "cell_type": "code",
   "source": [
    "import matplotlib.pyplot as plt\n",
    "\n",
    "plt.plot(mean_variance_return[-1], label=\"base\")\n",
    "plt.plot(filtered_return[-1], label=\"filtered\")\n",
    "\n",
    "plt.legend()"
   ],
   "id": "c751bad9fa90af38",
   "outputs": [
    {
     "data": {
      "text/plain": [
       "<matplotlib.legend.Legend at 0x1dcdd6692d0>"
      ]
     },
     "execution_count": 8,
     "metadata": {},
     "output_type": "execute_result"
    },
    {
     "data": {
      "text/plain": [
       "<Figure size 640x480 with 1 Axes>"
      ],
      "image/png": "[encoded data removed]"
     },
     "metadata": {},
     "output_type": "display_data"
    }
   ],
   "execution_count": 8
  },
  {
   "metadata": {},
   "cell_type": "code",
   "outputs": [],
   "execution_count": null,
   "source": "",
   "id": "854889ad95da1a6a"
  }
 ],
 "metadata": {
  "kernelspec": {
   "display_name": "Python 3",
   "language": "python",
   "name": "python3"
  },
  "language_info": {
   "codemirror_mode": {
    "name": "ipython",
    "version": 2
   },
   "file_extension": ".py",
   "mimetype": "text/x-python",
   "name": "python",
   "nbconvert_exporter": "python",
   "pygments_lexer": "ipython2",
   "version": "2.7.6"
  }
 },
 "nbformat": 4,
 "nbformat_minor": 5
}
