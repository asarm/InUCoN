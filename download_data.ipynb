{
 "cells": [
  {
   "cell_type": "code",
   "id": "initial_id",
   "metadata": {
    "collapsed": true,
    "ExecuteTime": {
     "end_time": "2024-06-13T08:00:18.400770Z",
     "start_time": "2024-06-13T08:00:08.363915Z"
    }
   },
   "source": [
    "from helpers.data_preparation import * \n",
    "from helpers.nlp_functions import *\n",
    "from helpers.time_series_functions import *"
   ],
   "outputs": [
    {
     "name": "stdout",
     "output_type": "stream",
     "text": [
      "Importing the dtw module. When using in academic works please cite:\n",
      "  T. Giorgino. Computing and Visualizing Dynamic Time Warping Alignments in R: The dtw Package.\n",
      "  J. Stat. Soft., doi:10.18637/jss.v031.i07.\n",
      "\n"
     ]
    }
   ],
   "execution_count": 1
  },
  {
   "metadata": {},
   "cell_type": "code",
   "source": [
    "stock_list = stockListFromURL(market=\"usa\")\n",
    "stock_data = stockDataFromYf(stock_list)\n",
    "stock_list = filterStocksByVolume(stock_data, largest_n=200)\n",
    "price_data = stock_data[\"Close\"][stock_list]\n",
    "\n",
    "threshold = 0.3 * len(price_data)\n",
    "price_data = price_data.dropna(thresh=len(price_data) - threshold, axis=1)\n",
    "price_data = price_data.ffill()\n",
    "price_data = price_data.bfill()\n",
    "\n",
    "stock_list = list(price_data.columns)\n",
    "stock2id = stocks2id(stock_list)\n",
    "stock_data = stockDataFromYf(stock_list)\n",
    "\n",
    "textual_data = fetchTextualInformation(stock_list, stock2id)"
   ],
   "id": "38f67d02b448df6c",
   "outputs": [],
   "execution_count": null
  },
  {
   "metadata": {
    "ExecuteTime": {
     "end_time": "2024-06-13T13:03:23.642243Z",
     "start_time": "2024-06-13T13:03:23.628744Z"
    }
   },
   "cell_type": "code",
   "source": "pd.DataFrame(textual_data).T.sample(5)",
   "id": "352ea190528cced8",
   "outputs": [
    {
     "data": {
      "text/plain": [
       "     ticker_id  code                             name              sector  \\\n",
       "DXCM       182  DXCM                     DexCom, Inc.          Healthcare   \n",
       "PM         114    PM  Philip Morris International Inc  Consumer Defensive   \n",
       "AMD          3   AMD     Advanced Micro Devices, Inc.          Technology   \n",
       "FI         164    FI                     Fiserv, Inc.          Technology   \n",
       "NCLH        27  NCLH  Norwegian Cruise Line Holdings    Consumer Cyclical   \n",
       "\n",
       "                             industry  \\\n",
       "DXCM                  Medical Devices   \n",
       "PM                            Tobacco   \n",
       "AMD                    Semiconductors   \n",
       "FI    Information Technology Services   \n",
       "NCLH                  Travel Services   \n",
       "\n",
       "                                            description  \n",
       "DXCM  DexCom, Inc., a medical device company, focuse...  \n",
       "PM    Philip Morris International Inc. operates as a...  \n",
       "AMD   Advanced Micro Devices, Inc. operates as a sem...  \n",
       "FI    Fiserv, Inc., together with its subsidiaries, ...  \n",
       "NCLH  Norwegian Cruise Line Holdings Ltd., together ...  "
      ],
      "text/html": [
       "<div>\n",
       "<style scoped>\n",
       "    .dataframe tbody tr th:only-of-type {\n",
       "        vertical-align: middle;\n",
       "    }\n",
       "\n",
       "    .dataframe tbody tr th {\n",
       "        vertical-align: top;\n",
       "    }\n",
       "\n",
       "    .dataframe thead th {\n",
       "        text-align: right;\n",
       "    }\n",
       "</style>\n",
       "<table border=\"1\" class=\"dataframe\">\n",
       "  <thead>\n",
       "    <tr style=\"text-align: right;\">\n",
       "      <th></th>\n",
       "      <th>ticker_id</th>\n",
       "      <th>code</th>\n",
       "      <th>name</th>\n",
       "      <th>sector</th>\n",
       "      <th>industry</th>\n",
       "      <th>description</th>\n",
       "    </tr>\n",
       "  </thead>\n",
       "  <tbody>\n",
       "    <tr>\n",
       "      <th>DXCM</th>\n",
       "      <td>182</td>\n",
       "      <td>DXCM</td>\n",
       "      <td>DexCom, Inc.</td>\n",
       "      <td>Healthcare</td>\n",
       "      <td>Medical Devices</td>\n",
       "      <td>DexCom, Inc., a medical device company, focuse...</td>\n",
       "    </tr>\n",
       "    <tr>\n",
       "      <th>PM</th>\n",
       "      <td>114</td>\n",
       "      <td>PM</td>\n",
       "      <td>Philip Morris International Inc</td>\n",
       "      <td>Consumer Defensive</td>\n",
       "      <td>Tobacco</td>\n",
       "      <td>Philip Morris International Inc. operates as a...</td>\n",
       "    </tr>\n",
       "    <tr>\n",
       "      <th>AMD</th>\n",
       "      <td>3</td>\n",
       "      <td>AMD</td>\n",
       "      <td>Advanced Micro Devices, Inc.</td>\n",
       "      <td>Technology</td>\n",
       "      <td>Semiconductors</td>\n",
       "      <td>Advanced Micro Devices, Inc. operates as a sem...</td>\n",
       "    </tr>\n",
       "    <tr>\n",
       "      <th>FI</th>\n",
       "      <td>164</td>\n",
       "      <td>FI</td>\n",
       "      <td>Fiserv, Inc.</td>\n",
       "      <td>Technology</td>\n",
       "      <td>Information Technology Services</td>\n",
       "      <td>Fiserv, Inc., together with its subsidiaries, ...</td>\n",
       "    </tr>\n",
       "    <tr>\n",
       "      <th>NCLH</th>\n",
       "      <td>27</td>\n",
       "      <td>NCLH</td>\n",
       "      <td>Norwegian Cruise Line Holdings</td>\n",
       "      <td>Consumer Cyclical</td>\n",
       "      <td>Travel Services</td>\n",
       "      <td>Norwegian Cruise Line Holdings Ltd., together ...</td>\n",
       "    </tr>\n",
       "  </tbody>\n",
       "</table>\n",
       "</div>"
      ]
     },
     "execution_count": 84,
     "metadata": {},
     "output_type": "execute_result"
    }
   ],
   "execution_count": 84
  },
  {
   "metadata": {
    "ExecuteTime": {
     "end_time": "2024-06-13T13:03:25.517219Z",
     "start_time": "2024-06-13T13:03:25.510172Z"
    }
   },
   "cell_type": "code",
   "source": "stock_list = textual_data.keys()",
   "id": "c5884d2f0fd47c8e",
   "outputs": [],
   "execution_count": 85
  },
  {
   "metadata": {
    "ExecuteTime": {
     "end_time": "2024-06-13T13:03:26.256593Z",
     "start_time": "2024-06-13T13:03:26.251196Z"
    }
   },
   "cell_type": "code",
   "source": "len(stock_list)",
   "id": "837bdb8a5b6f4991",
   "outputs": [
    {
     "data": {
      "text/plain": [
       "200"
      ]
     },
     "execution_count": 86,
     "metadata": {},
     "output_type": "execute_result"
    }
   ],
   "execution_count": 86
  },
  {
   "metadata": {},
   "cell_type": "code",
   "source": [
    "tokenizer, nlp_model = load_model()\n",
    "description_feature_vectors = {}\n",
    "\n",
    "for i, key in enumerate(list(textual_data.keys())):\n",
    "    desc = textual_data[key][\"description\"]\n",
    "    feature_vector = extract_features(text=desc, tokenizer=tokenizer, model=nlp_model)\n",
    "    description_feature_vectors[i] = feature_vector\n",
    "\n",
    "title = \"usa\"\n",
    "with open(f'cold_data/description_feature_vectors{title}.pkl', 'wb') as f:\n",
    "    pickle.dump(description_feature_vectors, f)\n",
    "\n",
    "price_data = price_data[list(textual_data.keys())]\n",
    "sim_metrics = [\"pearson\", \"dtw\", \"dist_corr\", \"euclidean\"]\n",
    "for metric in sim_metrics:\n",
    "    ts_sim = calculate_historical_ts_similarities(price_data, start_date=\"2023-01-01\", end_date=\"2023-06-01\", \n",
    "                                                  similarity_metric=metric, path=f\"range_similarities_{title}.pkl\")\n",
    "\n",
    "    with open(f'calculated_data/historical_ts_{title}_{metric}.pkl', 'wb') as f:\n",
    "        pickle.dump(ts_sim, f)"
   ],
   "id": "a78429d6d9af1c48",
   "outputs": [
    {
     "name": "stderr",
     "output_type": "stream",
     "text": [
      "100%|██████████| 237/237 [01:00<00:00,  3.95it/s]\n",
      "100%|██████████| 237/237 [01:30<00:00,  2.62it/s]\n",
      "100%|██████████| 237/237 [01:56<00:00,  2.04it/s]\n",
      "100%|██████████| 237/237 [01:58<00:00,  2.01it/s]\n"
     ]
    }
   ],
   "execution_count": 62
  },
  {
   "metadata": {},
   "cell_type": "code",
   "source": [
    "price_data[\"Date\"] = stock_data.index\n",
    "\n",
    "price_data.to_csv(f\"cold_data/stock_data{title}.csv\", index=False)\n",
    "pd.DataFrame(textual_data).to_csv(f\"cold_data/textual_information{title}.csv\", index=False)"
   ],
   "id": "9579a052d40e7245",
   "outputs": [],
   "execution_count": null
  },
  {
   "metadata": {
    "ExecuteTime": {
     "end_time": "2024-06-13T11:00:23.800224Z",
     "start_time": "2024-06-13T11:00:23.777119Z"
    }
   },
   "cell_type": "code",
   "source": [
    "s = pd.DataFrame(columns=list(price_data.drop(\"Date\", axis=1).columns))\n",
    "s.loc[0] = (list(stocks2id(stock_list).values()))\n",
    "s.to_csv(f\"cold_data/stock2id{title}.csv\", index=False)"
   ],
   "id": "120ee376e16fc9eb",
   "outputs": [],
   "execution_count": 80
  },
  {
   "metadata": {},
   "cell_type": "code",
   "outputs": [],
   "execution_count": null,
   "source": "",
   "id": "3df513a7036cec93"
  }
 ],
 "metadata": {
  "kernelspec": {
   "display_name": "Python 3",
   "language": "python",
   "name": "python3"
  },
  "language_info": {
   "codemirror_mode": {
    "name": "ipython",
    "version": 2
   },
   "file_extension": ".py",
   "mimetype": "text/x-python",
   "name": "python",
   "nbconvert_exporter": "python",
   "pygments_lexer": "ipython2",
   "version": "2.7.6"
  }
 },
 "nbformat": 4,
 "nbformat_minor": 5
}
