{
 "cells": [
  {
   "cell_type": "code",
   "id": "initial_id",
   "metadata": {
    "collapsed": true,
    "ExecuteTime": {
     "end_time": "2024-06-13T08:00:18.400770Z",
     "start_time": "2024-06-13T08:00:08.363915Z"
    }
   },
   "source": [
    "from helpers.data_preparation import * \n",
    "from helpers.nlp_functions import *\n",
    "from helpers.time_series_functions import *"
   ],
   "outputs": [
    {
     "name": "stdout",
     "output_type": "stream",
     "text": [
      "Importing the dtw module. When using in academic works please cite:\n",
      "  T. Giorgino. Computing and Visualizing Dynamic Time Warping Alignments in R: The dtw Package.\n",
      "  J. Stat. Soft., doi:10.18637/jss.v031.i07.\n",
      "\n"
     ]
    }
   ],
   "execution_count": 1
  },
  {
   "metadata": {},
   "cell_type": "code",
   "source": [
    "stock_list = stockListFromURL(market=\"london\")\n",
    "stock_data = stockDataFromYf(stock_list)\n",
    "# stock_list = filterStocksByVolume(stock_data, largest_n=200)\n",
    "price_data = stock_data[\"Close\"][stock_list]\n",
    "\n",
    "threshold = 0.3 * len(price_data)\n",
    "price_data = price_data.dropna(thresh=len(price_data) - threshold, axis=1)\n",
    "price_data = price_data.ffill()\n",
    "price_data = price_data.bfill()\n",
    "\n",
    "stock_list = list(price_data.columns)\n",
    "stock2id = stocks2id(stock_list)\n",
    "stock_data = stockDataFromYf(stock_list)\n",
    "\n",
    "textual_data = fetchTextualInformation(stock_list, stock2id)"
   ],
   "id": "38f67d02b448df6c",
   "outputs": [],
   "execution_count": null
  },
  {
   "metadata": {
    "ExecuteTime": {
     "end_time": "2024-06-13T10:10:45.035860Z",
     "start_time": "2024-06-13T10:10:45.020447Z"
    }
   },
   "cell_type": "code",
   "source": "pd.DataFrame(textual_data).T.sample(5)",
   "id": "352ea190528cced8",
   "outputs": [
    {
     "data": {
      "text/plain": [
       "       ticker_id    code                             name  \\\n",
       "SAIN.L       197  SAIN.L  SCOTTISH AMERICAN INVESTMENT CO   \n",
       "BCG.L         21   BCG.L  BALTIC CLASSIFIEDS GROUP PLC OR   \n",
       "SPT.L        208   SPT.L  SPIRENT COMMUNICATIONS PLC ORD    \n",
       "PPH.L        179   PPH.L  PPHE HOTEL GROUP LIMITED ORD NP   \n",
       "PRTC.L       182  PRTC.L       PURETECH HEALTH PLC ORD 1P   \n",
       "\n",
       "                        sector                        industry  \\\n",
       "SAIN.L      Financial Services                Asset Management   \n",
       "BCG.L   Communication Services  Internet Content & Information   \n",
       "SPT.L               Technology       Software - Infrastructure   \n",
       "PPH.L        Consumer Cyclical                         Lodging   \n",
       "PRTC.L              Healthcare                   Biotechnology   \n",
       "\n",
       "                                              description  \n",
       "SAIN.L  The Scottish American Investment Company P.L.C...  \n",
       "BCG.L   Baltic Classifieds Group PLC owns and operates...  \n",
       "SPT.L   Spirent Communications plc provides automated ...  \n",
       "PPH.L   PPHE Hotel Group Limited owns, co-owns, develo...  \n",
       "PRTC.L  PureTech Health plc, engages in the developmen...  "
      ],
      "text/html": [
       "<div>\n",
       "<style scoped>\n",
       "    .dataframe tbody tr th:only-of-type {\n",
       "        vertical-align: middle;\n",
       "    }\n",
       "\n",
       "    .dataframe tbody tr th {\n",
       "        vertical-align: top;\n",
       "    }\n",
       "\n",
       "    .dataframe thead th {\n",
       "        text-align: right;\n",
       "    }\n",
       "</style>\n",
       "<table border=\"1\" class=\"dataframe\">\n",
       "  <thead>\n",
       "    <tr style=\"text-align: right;\">\n",
       "      <th></th>\n",
       "      <th>ticker_id</th>\n",
       "      <th>code</th>\n",
       "      <th>name</th>\n",
       "      <th>sector</th>\n",
       "      <th>industry</th>\n",
       "      <th>description</th>\n",
       "    </tr>\n",
       "  </thead>\n",
       "  <tbody>\n",
       "    <tr>\n",
       "      <th>SAIN.L</th>\n",
       "      <td>197</td>\n",
       "      <td>SAIN.L</td>\n",
       "      <td>SCOTTISH AMERICAN INVESTMENT CO</td>\n",
       "      <td>Financial Services</td>\n",
       "      <td>Asset Management</td>\n",
       "      <td>The Scottish American Investment Company P.L.C...</td>\n",
       "    </tr>\n",
       "    <tr>\n",
       "      <th>BCG.L</th>\n",
       "      <td>21</td>\n",
       "      <td>BCG.L</td>\n",
       "      <td>BALTIC CLASSIFIEDS GROUP PLC OR</td>\n",
       "      <td>Communication Services</td>\n",
       "      <td>Internet Content &amp; Information</td>\n",
       "      <td>Baltic Classifieds Group PLC owns and operates...</td>\n",
       "    </tr>\n",
       "    <tr>\n",
       "      <th>SPT.L</th>\n",
       "      <td>208</td>\n",
       "      <td>SPT.L</td>\n",
       "      <td>SPIRENT COMMUNICATIONS PLC ORD</td>\n",
       "      <td>Technology</td>\n",
       "      <td>Software - Infrastructure</td>\n",
       "      <td>Spirent Communications plc provides automated ...</td>\n",
       "    </tr>\n",
       "    <tr>\n",
       "      <th>PPH.L</th>\n",
       "      <td>179</td>\n",
       "      <td>PPH.L</td>\n",
       "      <td>PPHE HOTEL GROUP LIMITED ORD NP</td>\n",
       "      <td>Consumer Cyclical</td>\n",
       "      <td>Lodging</td>\n",
       "      <td>PPHE Hotel Group Limited owns, co-owns, develo...</td>\n",
       "    </tr>\n",
       "    <tr>\n",
       "      <th>PRTC.L</th>\n",
       "      <td>182</td>\n",
       "      <td>PRTC.L</td>\n",
       "      <td>PURETECH HEALTH PLC ORD 1P</td>\n",
       "      <td>Healthcare</td>\n",
       "      <td>Biotechnology</td>\n",
       "      <td>PureTech Health plc, engages in the developmen...</td>\n",
       "    </tr>\n",
       "  </tbody>\n",
       "</table>\n",
       "</div>"
      ]
     },
     "execution_count": 59,
     "metadata": {},
     "output_type": "execute_result"
    }
   ],
   "execution_count": 59
  },
  {
   "metadata": {
    "ExecuteTime": {
     "end_time": "2024-06-13T10:10:46.594080Z",
     "start_time": "2024-06-13T10:10:46.589726Z"
    }
   },
   "cell_type": "code",
   "source": "stock_list = textual_data.keys()",
   "id": "c5884d2f0fd47c8e",
   "outputs": [],
   "execution_count": 60
  },
  {
   "metadata": {
    "ExecuteTime": {
     "end_time": "2024-06-13T10:10:46.915626Z",
     "start_time": "2024-06-13T10:10:46.910742Z"
    }
   },
   "cell_type": "code",
   "source": "len(stock_list)",
   "id": "837bdb8a5b6f4991",
   "outputs": [
    {
     "data": {
      "text/plain": [
       "237"
      ]
     },
     "execution_count": 61,
     "metadata": {},
     "output_type": "execute_result"
    }
   ],
   "execution_count": 61
  },
  {
   "metadata": {},
   "cell_type": "code",
   "source": [
    "tokenizer, nlp_model = load_model()\n",
    "description_feature_vectors = {}\n",
    "\n",
    "for i, key in enumerate(list(textual_data.keys())):\n",
    "    desc = textual_data[key][\"description\"]\n",
    "    feature_vector = extract_features(text=desc, tokenizer=tokenizer, model=nlp_model)\n",
    "    description_feature_vectors[i] = feature_vector\n",
    "\n",
    "title = \"london\"\n",
    "with open(f'cold_data/description_feature_vectors{title}.pkl', 'wb') as f:\n",
    "    pickle.dump(description_feature_vectors, f)\n",
    "\n",
    "price_data = price_data[list(textual_data.keys())]\n",
    "sim_metrics = [\"pearson\", \"dtw\", \"dist_corr\", \"euclidean\"]\n",
    "for metric in sim_metrics:\n",
    "    ts_sim = calculate_historical_ts_similarities(price_data, start_date=\"2023-01-01\", end_date=\"2023-06-01\", \n",
    "                                                  similarity_metric=metric, path=f\"range_similarities_{title}.pkl\")\n",
    "\n",
    "    with open(f'calculated_data/historical_ts_sim_london_{metric}.pkl', 'wb') as f:\n",
    "        pickle.dump(ts_sim, f)"
   ],
   "id": "a78429d6d9af1c48",
   "outputs": [
    {
     "name": "stderr",
     "output_type": "stream",
     "text": [
      "100%|██████████| 237/237 [01:00<00:00,  3.95it/s]\n",
      "100%|██████████| 237/237 [01:30<00:00,  2.62it/s]\n",
      "100%|██████████| 237/237 [01:56<00:00,  2.04it/s]\n",
      "100%|██████████| 237/237 [01:58<00:00,  2.01it/s]\n"
     ]
    }
   ],
   "execution_count": 62
  },
  {
   "metadata": {},
   "cell_type": "code",
   "source": [
    "price_data[\"Date\"] = stock_data.index\n",
    "\n",
    "price_data.to_csv(f\"cold_data/stock_data{title}.csv\", index=False)\n",
    "pd.DataFrame(textual_data).to_csv(f\"cold_data/textual_information{title}.csv\", index=False)"
   ],
   "id": "9579a052d40e7245",
   "outputs": [],
   "execution_count": null
  },
  {
   "metadata": {
    "ExecuteTime": {
     "end_time": "2024-06-13T11:00:23.800224Z",
     "start_time": "2024-06-13T11:00:23.777119Z"
    }
   },
   "cell_type": "code",
   "source": [
    "s = pd.DataFrame(columns=list(price_data.drop(\"Date\", axis=1).columns))\n",
    "s.loc[0] = (list(stocks2id(stock_list).values()))\n",
    "s.to_csv(f\"cold_data/stock2id{title}.csv\", index=False)"
   ],
   "id": "120ee376e16fc9eb",
   "outputs": [],
   "execution_count": 80
  },
  {
   "metadata": {
    "ExecuteTime": {
     "end_time": "2024-06-13T11:00:25.745092Z",
     "start_time": "2024-06-13T11:00:25.734923Z"
    }
   },
   "cell_type": "code",
   "source": "s",
   "id": "4f5f8612fd1149bd",
   "outputs": [
    {
     "data": {
      "text/plain": [
       "   3IN.L  FOUR.L  ABDN.L  APEO.L  ATST.L  ATT.L  AO.L  APAX.L  ASCL.L  ASHM.L  \\\n",
       "0      0       1       2       3       4      5     6       7       8       9   \n",
       "\n",
       "   ...  WPS.L  WOSG.L  JDW.L  SMWH.L  WTAN.L  WIZZ.L  WG.L  WKP.L  WWH.L  \\\n",
       "0  ...    227     228    229     230     231     232   233    234    235   \n",
       "\n",
       "   ZIG.L  \n",
       "0    236  \n",
       "\n",
       "[1 rows x 237 columns]"
      ],
      "text/html": [
       "<div>\n",
       "<style scoped>\n",
       "    .dataframe tbody tr th:only-of-type {\n",
       "        vertical-align: middle;\n",
       "    }\n",
       "\n",
       "    .dataframe tbody tr th {\n",
       "        vertical-align: top;\n",
       "    }\n",
       "\n",
       "    .dataframe thead th {\n",
       "        text-align: right;\n",
       "    }\n",
       "</style>\n",
       "<table border=\"1\" class=\"dataframe\">\n",
       "  <thead>\n",
       "    <tr style=\"text-align: right;\">\n",
       "      <th></th>\n",
       "      <th>3IN.L</th>\n",
       "      <th>FOUR.L</th>\n",
       "      <th>ABDN.L</th>\n",
       "      <th>APEO.L</th>\n",
       "      <th>ATST.L</th>\n",
       "      <th>ATT.L</th>\n",
       "      <th>AO.L</th>\n",
       "      <th>APAX.L</th>\n",
       "      <th>ASCL.L</th>\n",
       "      <th>ASHM.L</th>\n",
       "      <th>...</th>\n",
       "      <th>WPS.L</th>\n",
       "      <th>WOSG.L</th>\n",
       "      <th>JDW.L</th>\n",
       "      <th>SMWH.L</th>\n",
       "      <th>WTAN.L</th>\n",
       "      <th>WIZZ.L</th>\n",
       "      <th>WG.L</th>\n",
       "      <th>WKP.L</th>\n",
       "      <th>WWH.L</th>\n",
       "      <th>ZIG.L</th>\n",
       "    </tr>\n",
       "  </thead>\n",
       "  <tbody>\n",
       "    <tr>\n",
       "      <th>0</th>\n",
       "      <td>0</td>\n",
       "      <td>1</td>\n",
       "      <td>2</td>\n",
       "      <td>3</td>\n",
       "      <td>4</td>\n",
       "      <td>5</td>\n",
       "      <td>6</td>\n",
       "      <td>7</td>\n",
       "      <td>8</td>\n",
       "      <td>9</td>\n",
       "      <td>...</td>\n",
       "      <td>227</td>\n",
       "      <td>228</td>\n",
       "      <td>229</td>\n",
       "      <td>230</td>\n",
       "      <td>231</td>\n",
       "      <td>232</td>\n",
       "      <td>233</td>\n",
       "      <td>234</td>\n",
       "      <td>235</td>\n",
       "      <td>236</td>\n",
       "    </tr>\n",
       "  </tbody>\n",
       "</table>\n",
       "<p>1 rows × 237 columns</p>\n",
       "</div>"
      ]
     },
     "execution_count": 81,
     "metadata": {},
     "output_type": "execute_result"
    }
   ],
   "execution_count": 81
  },
  {
   "metadata": {},
   "cell_type": "code",
   "outputs": [],
   "execution_count": null,
   "source": "",
   "id": "3df513a7036cec93"
  }
 ],
 "metadata": {
  "kernelspec": {
   "display_name": "Python 3",
   "language": "python",
   "name": "python3"
  },
  "language_info": {
   "codemirror_mode": {
    "name": "ipython",
    "version": 2
   },
   "file_extension": ".py",
   "mimetype": "text/x-python",
   "name": "python",
   "nbconvert_exporter": "python",
   "pygments_lexer": "ipython2",
   "version": "2.7.6"
  }
 },
 "nbformat": 4,
 "nbformat_minor": 5
}
